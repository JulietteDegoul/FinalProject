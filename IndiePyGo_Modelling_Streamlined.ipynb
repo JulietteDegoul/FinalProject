{
 "cells": [
  {
   "cell_type": "code",
   "execution_count": 30,
   "id": "be5a40d7",
   "metadata": {},
   "outputs": [],
   "source": [
    "import pandas as pd\n",
    "import numpy as np\n",
    "import time\n",
    "\n",
    "import ipywidgets as widgets\n",
    "\n",
    "from sklearn.compose import ColumnTransformer\n",
    "from sklearn.preprocessing import StandardScaler\n",
    "from sklearn.preprocessing import MinMaxScaler\n",
    "from sklearn.preprocessing import PowerTransformer\n",
    "from sklearn.pipeline import Pipeline\n",
    "from sklearn.feature_extraction.text import TfidfVectorizer\n",
    "\n",
    "from sklearn.model_selection import GridSearchCV\n",
    "from sklearn.model_selection import train_test_split\n",
    "from sklearn.ensemble import RandomForestClassifier\n",
    "from sklearn.neighbors import KNeighborsClassifier\n",
    "from sklearn.naive_bayes import MultinomialNB\n",
    "from sklearn.linear_model import LogisticRegression\n",
    "\n",
    "from sklearn.metrics import classification_report, confusion_matrix"
   ]
  },
  {
   "cell_type": "code",
   "execution_count": 7,
   "id": "a1399c87",
   "metadata": {},
   "outputs": [],
   "source": [
    "#Train/Test split\n",
    "def split(X, y):\n",
    "    X_train, X_test, y_train, y_test = train_test_split(\n",
    "    X,\n",
    "    y,\n",
    "    test_size=0.2, \n",
    "    random_state=2023,\n",
    "    stratify=y\n",
    "    ) \n",
    "    return X_train, X_test, y_train, y_test"
   ]
  },
  {
   "cell_type": "code",
   "execution_count": 8,
   "id": "34009a3f",
   "metadata": {},
   "outputs": [],
   "source": [
    "def select_cols_to_remove(df):\n",
    "    # Create a list of column names\n",
    "    column_names = df.columns.tolist()\n",
    "\n",
    "    # Create the select menu\n",
    "    select_cols = widgets.Select(\n",
    "        options=column_names,\n",
    "        rows=5,\n",
    "        layout=widgets.Layout(width='50%')\n",
    "    )\n",
    "\n",
    "    # Create the button to add the selected column to a list\n",
    "    add_button = widgets.Button(description='Add')\n",
    "    remove_cols = []\n",
    "\n",
    "    def add_col_to_list(b):\n",
    "        col_name = select_cols.value\n",
    "        if col_name not in remove_cols:\n",
    "            remove_cols.append(col_name)\n",
    "        print('Selected columns to remove:', remove_cols)\n",
    "\n",
    "    add_button.on_click(add_col_to_list)\n",
    "\n",
    "    # Display the select menu and button\n",
    "    print(\"Select columns to remove:\")\n",
    "    display(select_cols)\n",
    "    display(add_button)\n",
    "\n",
    "    return remove_cols\n"
   ]
  },
  {
   "cell_type": "code",
   "execution_count": 36,
   "id": "e2b251a5",
   "metadata": {},
   "outputs": [],
   "source": [
    "def run_model(X_train, y_train, X_test, y_test, transformer=None, model=None, params=None, cv=None):\n",
    "    # Timing how long the model takes to run\n",
    "    start_time = time.time()\n",
    "    \n",
    "    # Create a pipeline with the transformer and model\n",
    "    if transformer is None:\n",
    "        pipe = Pipeline(steps=[('model', model)])\n",
    "    else:\n",
    "        pipe = Pipeline(steps=[('transformer', transformer), ('model', model)])\n",
    "    \n",
    "    # Use GridSearchCV to test different hyperparameters\n",
    "    if params is None:\n",
    "        grid = GridSearchCV(pipe, cv=cv)\n",
    "    else:\n",
    "        grid = GridSearchCV(pipe, params, cv=cv)\n",
    "\n",
    "    # Fit the model\n",
    "    grid.fit(X_train, y_train)\n",
    "    \n",
    "    # Get the predictions\n",
    "    y_pred = grid.predict(X_test)\n",
    "    \n",
    "    # Print the classification report and confusion matrix\n",
    "    print(classification_report(y_test, y_pred))\n",
    "    print(confusion_matrix(y_test, y_pred))\n",
    "    \n",
    "    # Print the best score and parameters\n",
    "    print(f\"Best score: {grid.best_score_}\")\n",
    "    print(f\"Best params: {grid.best_params_}\")\n",
    "    \n",
    "    # Print the time taken to run the model\n",
    "    end_time = time.time()\n",
    "    print(f\"Time taken to run: {round((end_time - start_time)/60,1)} minutes\")"
   ]
  },
  {
   "cell_type": "markdown",
   "id": "05d9f057",
   "metadata": {},
   "source": [
    "## Start here"
   ]
  },
  {
   "cell_type": "code",
   "execution_count": 37,
   "id": "c03fc35b",
   "metadata": {
    "scrolled": false
   },
   "outputs": [],
   "source": [
    "#Import the CSV\n",
    "df = pd.read_csv('Data/Indypygo_model.csv')"
   ]
  },
  {
   "cell_type": "markdown",
   "id": "206706e4",
   "metadata": {},
   "source": [
    "___________\n",
    "If we want to remove some features. If not, please skip"
   ]
  },
  {
   "cell_type": "code",
   "execution_count": 38,
   "id": "c6732bc1",
   "metadata": {},
   "outputs": [
    {
     "name": "stdout",
     "output_type": "stream",
     "text": [
      "Select columns to remove:\n"
     ]
    },
    {
     "data": {
      "application/vnd.jupyter.widget-view+json": {
       "model_id": "ef6e9aafaafd482b989fe4c6d5c33f57",
       "version_major": 2,
       "version_minor": 0
      },
      "text/plain": [
       "Select(layout=Layout(width='50%'), options=('tagline', 'title', 'goal_usd', 'australia', 'canada', 'switzerlan…"
      ]
     },
     "metadata": {},
     "output_type": "display_data"
    },
    {
     "data": {
      "application/vnd.jupyter.widget-view+json": {
       "model_id": "21aaba5f9ec34bb297b85f463875c40b",
       "version_major": 2,
       "version_minor": 0
      },
      "text/plain": [
       "Button(description='Add', style=ButtonStyle())"
      ]
     },
     "metadata": {},
     "output_type": "display_data"
    },
    {
     "name": "stdout",
     "output_type": "stream",
     "text": [
      "Selected columns to remove: ['tagline']\n",
      "Selected columns to remove: ['tagline', 'title']\n"
     ]
    }
   ],
   "source": [
    "# IF NEEDED: Call the function to select columns to remove\n",
    "cols_to_remove = select_cols_to_remove(df)"
   ]
  },
  {
   "cell_type": "code",
   "execution_count": 39,
   "id": "31168abe",
   "metadata": {
    "scrolled": true
   },
   "outputs": [],
   "source": [
    "# Create a new DataFrame with the remaining columns\n",
    "df = df.drop(cols_to_remove, axis=1)"
   ]
  },
  {
   "cell_type": "markdown",
   "id": "3dbf2b9b",
   "metadata": {},
   "source": [
    "_________________\n",
    "Here:"
   ]
  },
  {
   "cell_type": "code",
   "execution_count": 40,
   "id": "f95d4b04",
   "metadata": {},
   "outputs": [],
   "source": [
    "#Separate into X and Y\n",
    "X = df.drop('is_success', axis=1)\n",
    "y = df['is_success']"
   ]
  },
  {
   "cell_type": "code",
   "execution_count": 27,
   "id": "657bae8c",
   "metadata": {},
   "outputs": [],
   "source": [
    "#train/test split\n",
    "X_train, X_test, y_train, y_test = split(X,y)"
   ]
  },
  {
   "cell_type": "code",
   "execution_count": 33,
   "id": "544d824a",
   "metadata": {
    "scrolled": true
   },
   "outputs": [
    {
     "name": "stdout",
     "output_type": "stream",
     "text": [
      "              precision    recall  f1-score   support\n",
      "\n",
      "           0       0.82      0.90      0.86      3207\n",
      "           1       0.46      0.31      0.37       917\n",
      "\n",
      "    accuracy                           0.77      4124\n",
      "   macro avg       0.64      0.60      0.61      4124\n",
      "weighted avg       0.74      0.77      0.75      4124\n",
      "\n",
      "[[2873  334]\n",
      " [ 631  286]]\n",
      "Best score: 0.7735546045432294\n",
      "Best params: {'model__class_weight': None, 'model__n_estimators': 1000}\n",
      "Time taken to run: 6.7 minutes\n"
     ]
    }
   ],
   "source": [
    "rfc = RandomForestClassifier()\n",
    "\n",
    "params = {'model__n_estimators': [100, 500, 1000],\n",
    "          'model__class_weight': [None, {0: 1, 1: 5}]}\n",
    "\n",
    "run_model(X_train, y_train, X_test, y_test, model=rfc, params=params)"
   ]
  },
  {
   "cell_type": "code",
   "execution_count": 58,
   "id": "7f1407cd",
   "metadata": {},
   "outputs": [
    {
     "name": "stderr",
     "output_type": "stream",
     "text": [
      "/Users/juliettedegoul/opt/anaconda3/lib/python3.9/site-packages/sklearn/preprocessing/_data.py:3253: RuntimeWarning: divide by zero encountered in log\n",
      "  loglike = -n_samples / 2 * np.log(x_trans.var())\n",
      "/Users/juliettedegoul/opt/anaconda3/lib/python3.9/site-packages/sklearn/preprocessing/_data.py:3253: RuntimeWarning: divide by zero encountered in log\n",
      "  loglike = -n_samples / 2 * np.log(x_trans.var())\n",
      "/Users/juliettedegoul/opt/anaconda3/lib/python3.9/site-packages/sklearn/preprocessing/_data.py:3253: RuntimeWarning: divide by zero encountered in log\n",
      "  loglike = -n_samples / 2 * np.log(x_trans.var())\n",
      "/Users/juliettedegoul/opt/anaconda3/lib/python3.9/site-packages/sklearn/preprocessing/_data.py:3253: RuntimeWarning: divide by zero encountered in log\n",
      "  loglike = -n_samples / 2 * np.log(x_trans.var())\n",
      "/Users/juliettedegoul/opt/anaconda3/lib/python3.9/site-packages/sklearn/preprocessing/_data.py:3253: RuntimeWarning: divide by zero encountered in log\n",
      "  loglike = -n_samples / 2 * np.log(x_trans.var())\n",
      "/Users/juliettedegoul/opt/anaconda3/lib/python3.9/site-packages/sklearn/preprocessing/_data.py:3253: RuntimeWarning: divide by zero encountered in log\n",
      "  loglike = -n_samples / 2 * np.log(x_trans.var())\n",
      "/Users/juliettedegoul/opt/anaconda3/lib/python3.9/site-packages/sklearn/preprocessing/_data.py:3253: RuntimeWarning: divide by zero encountered in log\n",
      "  loglike = -n_samples / 2 * np.log(x_trans.var())\n",
      "/Users/juliettedegoul/opt/anaconda3/lib/python3.9/site-packages/sklearn/preprocessing/_data.py:3253: RuntimeWarning: divide by zero encountered in log\n",
      "  loglike = -n_samples / 2 * np.log(x_trans.var())\n",
      "/Users/juliettedegoul/opt/anaconda3/lib/python3.9/site-packages/sklearn/preprocessing/_data.py:3253: RuntimeWarning: divide by zero encountered in log\n",
      "  loglike = -n_samples / 2 * np.log(x_trans.var())\n",
      "/Users/juliettedegoul/opt/anaconda3/lib/python3.9/site-packages/sklearn/preprocessing/_data.py:3253: RuntimeWarning: divide by zero encountered in log\n",
      "  loglike = -n_samples / 2 * np.log(x_trans.var())\n",
      "/Users/juliettedegoul/opt/anaconda3/lib/python3.9/site-packages/sklearn/preprocessing/_data.py:3253: RuntimeWarning: divide by zero encountered in log\n",
      "  loglike = -n_samples / 2 * np.log(x_trans.var())\n",
      "/Users/juliettedegoul/opt/anaconda3/lib/python3.9/site-packages/sklearn/preprocessing/_data.py:3253: RuntimeWarning: divide by zero encountered in log\n",
      "  loglike = -n_samples / 2 * np.log(x_trans.var())\n",
      "/Users/juliettedegoul/opt/anaconda3/lib/python3.9/site-packages/sklearn/preprocessing/_data.py:3253: RuntimeWarning: divide by zero encountered in log\n",
      "  loglike = -n_samples / 2 * np.log(x_trans.var())\n",
      "/Users/juliettedegoul/opt/anaconda3/lib/python3.9/site-packages/sklearn/preprocessing/_data.py:3253: RuntimeWarning: divide by zero encountered in log\n",
      "  loglike = -n_samples / 2 * np.log(x_trans.var())\n",
      "/Users/juliettedegoul/opt/anaconda3/lib/python3.9/site-packages/sklearn/preprocessing/_data.py:3253: RuntimeWarning: divide by zero encountered in log\n",
      "  loglike = -n_samples / 2 * np.log(x_trans.var())\n",
      "/Users/juliettedegoul/opt/anaconda3/lib/python3.9/site-packages/sklearn/preprocessing/_data.py:3253: RuntimeWarning: divide by zero encountered in log\n",
      "  loglike = -n_samples / 2 * np.log(x_trans.var())\n",
      "/Users/juliettedegoul/opt/anaconda3/lib/python3.9/site-packages/sklearn/preprocessing/_data.py:3253: RuntimeWarning: divide by zero encountered in log\n",
      "  loglike = -n_samples / 2 * np.log(x_trans.var())\n",
      "/Users/juliettedegoul/opt/anaconda3/lib/python3.9/site-packages/sklearn/preprocessing/_data.py:3253: RuntimeWarning: divide by zero encountered in log\n",
      "  loglike = -n_samples / 2 * np.log(x_trans.var())\n",
      "/Users/juliettedegoul/opt/anaconda3/lib/python3.9/site-packages/sklearn/preprocessing/_data.py:3253: RuntimeWarning: divide by zero encountered in log\n",
      "  loglike = -n_samples / 2 * np.log(x_trans.var())\n",
      "/Users/juliettedegoul/opt/anaconda3/lib/python3.9/site-packages/sklearn/preprocessing/_data.py:3253: RuntimeWarning: divide by zero encountered in log\n",
      "  loglike = -n_samples / 2 * np.log(x_trans.var())\n",
      "/Users/juliettedegoul/opt/anaconda3/lib/python3.9/site-packages/sklearn/preprocessing/_data.py:3253: RuntimeWarning: divide by zero encountered in log\n",
      "  loglike = -n_samples / 2 * np.log(x_trans.var())\n",
      "/Users/juliettedegoul/opt/anaconda3/lib/python3.9/site-packages/sklearn/preprocessing/_data.py:3253: RuntimeWarning: divide by zero encountered in log\n",
      "  loglike = -n_samples / 2 * np.log(x_trans.var())\n",
      "/Users/juliettedegoul/opt/anaconda3/lib/python3.9/site-packages/sklearn/preprocessing/_data.py:3253: RuntimeWarning: divide by zero encountered in log\n",
      "  loglike = -n_samples / 2 * np.log(x_trans.var())\n",
      "/Users/juliettedegoul/opt/anaconda3/lib/python3.9/site-packages/sklearn/preprocessing/_data.py:3253: RuntimeWarning: divide by zero encountered in log\n",
      "  loglike = -n_samples / 2 * np.log(x_trans.var())\n",
      "/Users/juliettedegoul/opt/anaconda3/lib/python3.9/site-packages/sklearn/preprocessing/_data.py:3253: RuntimeWarning: divide by zero encountered in log\n",
      "  loglike = -n_samples / 2 * np.log(x_trans.var())\n",
      "/Users/juliettedegoul/opt/anaconda3/lib/python3.9/site-packages/sklearn/preprocessing/_data.py:3253: RuntimeWarning: divide by zero encountered in log\n",
      "  loglike = -n_samples / 2 * np.log(x_trans.var())\n",
      "/Users/juliettedegoul/opt/anaconda3/lib/python3.9/site-packages/sklearn/preprocessing/_data.py:3253: RuntimeWarning: divide by zero encountered in log\n",
      "  loglike = -n_samples / 2 * np.log(x_trans.var())\n",
      "/Users/juliettedegoul/opt/anaconda3/lib/python3.9/site-packages/sklearn/preprocessing/_data.py:3253: RuntimeWarning: divide by zero encountered in log\n",
      "  loglike = -n_samples / 2 * np.log(x_trans.var())\n",
      "/Users/juliettedegoul/opt/anaconda3/lib/python3.9/site-packages/sklearn/preprocessing/_data.py:3253: RuntimeWarning: divide by zero encountered in log\n",
      "  loglike = -n_samples / 2 * np.log(x_trans.var())\n",
      "/Users/juliettedegoul/opt/anaconda3/lib/python3.9/site-packages/sklearn/preprocessing/_data.py:3253: RuntimeWarning: divide by zero encountered in log\n",
      "  loglike = -n_samples / 2 * np.log(x_trans.var())\n",
      "/Users/juliettedegoul/opt/anaconda3/lib/python3.9/site-packages/sklearn/preprocessing/_data.py:3253: RuntimeWarning: divide by zero encountered in log\n",
      "  loglike = -n_samples / 2 * np.log(x_trans.var())\n"
     ]
    },
    {
     "name": "stdout",
     "output_type": "stream",
     "text": [
      "              precision    recall  f1-score   support\n",
      "\n",
      "           0       0.82      0.90      0.86      3207\n",
      "           1       0.48      0.31      0.38       917\n",
      "\n",
      "    accuracy                           0.77      4124\n",
      "   macro avg       0.65      0.61      0.62      4124\n",
      "weighted avg       0.75      0.77      0.75      4124\n",
      "\n",
      "[[2895  312]\n",
      " [ 630  287]]\n",
      "Best score: 0.7737362388698195\n",
      "Best params: {'model__class_weight': None, 'model__n_estimators': 50}\n",
      "Time taken to run: 0.6 minutes\n"
     ]
    }
   ],
   "source": [
    "rfc = RandomForestClassifier()\n",
    "pt = PowerTransformer()\n",
    "\n",
    "params = {'model__n_estimators': [10, 50, 100],\n",
    "          'model__class_weight': [None, {0: 1, 1: 5}]}\n",
    "\n",
    "run_model(X_train, y_train, X_test, y_test, model=rfc, transformer=pt, params=params)"
   ]
  },
  {
   "cell_type": "code",
   "execution_count": 57,
   "id": "778e88ad",
   "metadata": {},
   "outputs": [
    {
     "name": "stdout",
     "output_type": "stream",
     "text": [
      "              precision    recall  f1-score   support\n",
      "\n",
      "           0       0.78      1.00      0.87      3207\n",
      "           1       0.00      0.00      0.00       917\n",
      "\n",
      "    accuracy                           0.78      4124\n",
      "   macro avg       0.39      0.50      0.44      4124\n",
      "weighted avg       0.60      0.78      0.68      4124\n",
      "\n",
      "[[3207    0]\n",
      " [ 917    0]]\n",
      "Best score: 0.7776161105842574\n",
      "Best params: {'model__penalty': 'none'}\n",
      "Time taken to run: 0.0 minutes\n"
     ]
    },
    {
     "name": "stderr",
     "output_type": "stream",
     "text": [
      "/Users/juliettedegoul/opt/anaconda3/lib/python3.9/site-packages/sklearn/metrics/_classification.py:1318: UndefinedMetricWarning: Precision and F-score are ill-defined and being set to 0.0 in labels with no predicted samples. Use `zero_division` parameter to control this behavior.\n",
      "  _warn_prf(average, modifier, msg_start, len(result))\n",
      "/Users/juliettedegoul/opt/anaconda3/lib/python3.9/site-packages/sklearn/metrics/_classification.py:1318: UndefinedMetricWarning: Precision and F-score are ill-defined and being set to 0.0 in labels with no predicted samples. Use `zero_division` parameter to control this behavior.\n",
      "  _warn_prf(average, modifier, msg_start, len(result))\n",
      "/Users/juliettedegoul/opt/anaconda3/lib/python3.9/site-packages/sklearn/metrics/_classification.py:1318: UndefinedMetricWarning: Precision and F-score are ill-defined and being set to 0.0 in labels with no predicted samples. Use `zero_division` parameter to control this behavior.\n",
      "  _warn_prf(average, modifier, msg_start, len(result))\n"
     ]
    }
   ],
   "source": [
    "lr = LogisticRegression()\n",
    "\n",
    "params = {'model__penalty': ['none', 'l2']}\n",
    "\n",
    "run_model(X_train, y_train, X_test, y_test, model=lr, params=params)"
   ]
  },
  {
   "cell_type": "code",
   "execution_count": 61,
   "id": "9e07c74b",
   "metadata": {},
   "outputs": [
    {
     "name": "stdout",
     "output_type": "stream",
     "text": [
      "              precision    recall  f1-score   support\n",
      "\n",
      "           0       0.85      0.95      0.90      3207\n",
      "           1       0.72      0.42      0.53       917\n",
      "\n",
      "    accuracy                           0.83      4124\n",
      "   macro avg       0.78      0.69      0.71      4124\n",
      "weighted avg       0.82      0.83      0.82      4124\n",
      "\n",
      "[[3054  153]\n",
      " [ 532  385]]\n",
      "Best score: 0.8435185258373498\n",
      "Best params: {'model__learning_rate': 0.1, 'model__max_depth': 10, 'model__n_estimators': 200}\n",
      "Time taken to run: 3.3 minutes\n"
     ]
    }
   ],
   "source": [
    "from xgboost import XGBClassifier\n",
    "xgb = XGBClassifier()\n",
    "\n",
    "params = {'model__max_depth': [10, 20],\n",
    "          'model__learning_rate': [0.1, 0.01],\n",
    "          'model__n_estimators': [100, 200]}\n",
    "\n",
    "run_model(X_train, y_train, X_test, y_test, model=xgb, params=params, cv=5)"
   ]
  },
  {
   "cell_type": "code",
   "execution_count": null,
   "id": "8b555490",
   "metadata": {},
   "outputs": [],
   "source": []
  }
 ],
 "metadata": {
  "kernelspec": {
   "display_name": "Python 3 (ipykernel)",
   "language": "python",
   "name": "python3"
  },
  "language_info": {
   "codemirror_mode": {
    "name": "ipython",
    "version": 3
   },
   "file_extension": ".py",
   "mimetype": "text/x-python",
   "name": "python",
   "nbconvert_exporter": "python",
   "pygments_lexer": "ipython3",
   "version": "3.9.13"
  }
 },
 "nbformat": 4,
 "nbformat_minor": 5
}
