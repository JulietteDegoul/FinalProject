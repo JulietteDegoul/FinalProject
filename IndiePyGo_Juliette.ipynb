{
 "cells": [
  {
   "cell_type": "code",
   "execution_count": 1,
   "id": "582308e5",
   "metadata": {},
   "outputs": [],
   "source": [
    "import pandas as pd\n",
    "import numpy as np\n",
    "\n",
    "pd.set_option('display.max_columns', None)"
   ]
  },
  {
   "cell_type": "code",
   "execution_count": null,
   "id": "65f40acb",
   "metadata": {},
   "outputs": [],
   "source": [
    "indie_df = pd.read_csv('Data/indiegogo_2.csv')"
   ]
  },
  {
   "cell_type": "code",
   "execution_count": null,
   "id": "f2b06f7b",
   "metadata": {},
   "outputs": [],
   "source": [
    "#create target value column, based on funded_percent\n",
    "indie_df['funded_percent'] = indie_df['funded_percent'].str.replace('%', '').astype(float)\n",
    "indie_df['is_success'] = (indie_df['funded_percent'] >= 80).astype(int)"
   ]
  },
  {
   "cell_type": "code",
   "execution_count": null,
   "id": "aa52d478",
   "metadata": {},
   "outputs": [],
   "source": [
    "#add day of the week column, based on launch date\n",
    "from datetime import datetime\n",
    "indie_df['date_launch'] = pd.to_datetime(indie_df['date_launch'])\n",
    "day_names = {0: 'Monday', 1: 'Tuesday', 2: 'Wednesday', 3: 'Thursday', 4: 'Friday', 5: 'Saturday', 6: 'Sunday'}\n",
    "indie_df['day_of_week'] = indie_df['date_launch'].apply(lambda x: day_names[x.weekday()])"
   ]
  },
  {
   "cell_type": "code",
   "execution_count": null,
   "id": "a9b2e463",
   "metadata": {},
   "outputs": [],
   "source": [
    "#dummifying \n",
    "day_dummies = pd.get_dummies(indie_df['day_of_week'])\n",
    "indie_df = pd.concat([indie_df, day_dummies], axis=1)\n",
    "indie_df.columns = indie_df.columns.str.lower()"
   ]
  },
  {
   "cell_type": "code",
   "execution_count": null,
   "id": "169ed2ff",
   "metadata": {},
   "outputs": [],
   "source": [
    "#indie_df = pd.to_csv('Data/indiepygo_ready.csv') #save pdf"
   ]
  },
  {
   "cell_type": "code",
   "execution_count": 10,
   "id": "cb908348",
   "metadata": {},
   "outputs": [],
   "source": [
    "df = pd.read_csv('Data/IndiePyGo_nulldropped.csv')"
   ]
  },
  {
   "cell_type": "code",
   "execution_count": null,
   "id": "9884b976",
   "metadata": {},
   "outputs": [],
   "source": [
    "indie_text_df = indie_df[['title', 'tagline', 'is_success']]\n",
    "indie_text_df"
   ]
  },
  {
   "cell_type": "code",
   "execution_count": null,
   "id": "c1c0ce72",
   "metadata": {},
   "outputs": [],
   "source": [
    "indie_text_df['text'] = indie_text_df['title'] + ' ' + indie_text_df['tagline']\n",
    "indie_text_df['text']"
   ]
  },
  {
   "cell_type": "code",
   "execution_count": null,
   "id": "512b100a",
   "metadata": {},
   "outputs": [],
   "source": [
    "indie_text_df.drop(['title', 'tagline'], axis=1, inplace=True)"
   ]
  },
  {
   "cell_type": "code",
   "execution_count": null,
   "id": "04a8a0cf",
   "metadata": {},
   "outputs": [],
   "source": [
    "indie_text_df.to_csv('indiepygo_text_fornlp.csv', index=False)"
   ]
  },
  {
   "cell_type": "code",
   "execution_count": null,
   "id": "e38683b0",
   "metadata": {},
   "outputs": [],
   "source": []
  }
 ],
 "metadata": {
  "kernelspec": {
   "display_name": "Python 3 (ipykernel)",
   "language": "python",
   "name": "python3"
  },
  "language_info": {
   "codemirror_mode": {
    "name": "ipython",
    "version": 3
   },
   "file_extension": ".py",
   "mimetype": "text/x-python",
   "name": "python",
   "nbconvert_exporter": "python",
   "pygments_lexer": "ipython3",
   "version": "3.9.13"
  }
 },
 "nbformat": 4,
 "nbformat_minor": 5
}
