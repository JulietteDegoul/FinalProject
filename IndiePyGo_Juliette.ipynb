{
 "cells": [
  {
   "cell_type": "code",
   "execution_count": 1,
   "id": "582308e5",
   "metadata": {},
   "outputs": [],
   "source": [
    "import pandas as pd\n",
    "import numpy as np\n",
    "\n",
    "pd.set_option('display.max_columns', None)"
   ]
  },
  {
   "cell_type": "code",
   "execution_count": null,
   "id": "65f40acb",
   "metadata": {},
   "outputs": [],
   "source": [
    "indie_df = pd.read_csv('Data/indiegogo_2.csv')"
   ]
  },
  {
   "cell_type": "code",
   "execution_count": null,
   "id": "f2b06f7b",
   "metadata": {},
   "outputs": [],
   "source": [
    "#create target value column, based on funded_percent\n",
    "indie_df['funded_percent'] = indie_df['funded_percent'].str.replace('%', '').astype(float)\n",
    "indie_df['is_success'] = (indie_df['funded_percent'] >= 80).astype(int)"
   ]
  },
  {
   "cell_type": "code",
   "execution_count": null,
   "id": "8b48cfd5",
   "metadata": {},
   "outputs": [],
   "source": [
    "#add day of the week column, based on launch date\n",
    "from datetime import datetime\n",
    "indie_df['date_launch'] = pd.to_datetime(indie_df['date_launch'])\n",
    "day_names = {0: 'Monday', 1: 'Tuesday', 2: 'Wednesday', 3: 'Thursday', 4: 'Friday', 5: 'Saturday', 6: 'Sunday'}\n",
    "indie_df['day_of_week'] = indie_df['date_launch'].apply(lambda x: day_names[x.weekday()])"
   ]
  },
  {
   "cell_type": "code",
   "execution_count": null,
   "id": "c688efc3",
   "metadata": {},
   "outputs": [],
   "source": [
    "#dummifying \n",
    "day_dummies = pd.get_dummies(indie_df['day_of_week'])\n",
    "indie_df = pd.concat([indie_df, day_dummies], axis=1)\n",
    "indie_df.columns = indie_df.columns.str.lower()"
   ]
  },
  {
   "cell_type": "code",
   "execution_count": null,
   "id": "52b454a9",
   "metadata": {},
   "outputs": [],
   "source": [
    "#indie_df = pd.to_csv('Data/indiepygo_ready.csv') #save pdf"
   ]
  },
  {
   "cell_type": "code",
   "execution_count": 13,
   "id": "d81c0f1e",
   "metadata": {},
   "outputs": [],
   "source": [
    "df = pd.read_csv('Data/IndiePyGo_nulldropped.csv')"
   ]
  },
  {
   "cell_type": "code",
   "execution_count": 14,
   "id": "e568eda1",
   "metadata": {},
   "outputs": [
    {
     "data": {
      "text/html": [
       "<div>\n",
       "<style scoped>\n",
       "    .dataframe tbody tr th:only-of-type {\n",
       "        vertical-align: middle;\n",
       "    }\n",
       "\n",
       "    .dataframe tbody tr th {\n",
       "        vertical-align: top;\n",
       "    }\n",
       "\n",
       "    .dataframe thead th {\n",
       "        text-align: right;\n",
       "    }\n",
       "</style>\n",
       "<table border=\"1\" class=\"dataframe\">\n",
       "  <thead>\n",
       "    <tr style=\"text-align: right;\">\n",
       "      <th></th>\n",
       "      <th>title</th>\n",
       "      <th>tagline</th>\n",
       "      <th>is_success</th>\n",
       "    </tr>\n",
       "  </thead>\n",
       "  <tbody>\n",
       "    <tr>\n",
       "      <th>0</th>\n",
       "      <td>Join the Electric Revolution!!!</td>\n",
       "      <td>Pure electric motorcycle proves a powerful alt...</td>\n",
       "      <td>0</td>\n",
       "    </tr>\n",
       "    <tr>\n",
       "      <th>1</th>\n",
       "      <td>Relief Trip to Haiti</td>\n",
       "      <td>Send Me to Haiti...I'm needed there!</td>\n",
       "      <td>0</td>\n",
       "    </tr>\n",
       "    <tr>\n",
       "      <th>2</th>\n",
       "      <td>Out To Reach Leogane, Haiti 2010</td>\n",
       "      <td>Haiti Relief Mission to Leogane</td>\n",
       "      <td>0</td>\n",
       "    </tr>\n",
       "    <tr>\n",
       "      <th>3</th>\n",
       "      <td>The Transpersonal Papers: 1861-2010</td>\n",
       "      <td>My third book on Fezziwig Press.</td>\n",
       "      <td>0</td>\n",
       "    </tr>\n",
       "    <tr>\n",
       "      <th>4</th>\n",
       "      <td>Homeless Veterans need a Hand UP not Hand Out!</td>\n",
       "      <td>Homeless Veterans Transitional Housing Develop...</td>\n",
       "      <td>0</td>\n",
       "    </tr>\n",
       "    <tr>\n",
       "      <th>...</th>\n",
       "      <td>...</td>\n",
       "      <td>...</td>\n",
       "      <td>...</td>\n",
       "    </tr>\n",
       "    <tr>\n",
       "      <th>20613</th>\n",
       "      <td>Totally Gay Productions</td>\n",
       "      <td>Trans filmmaker making queer documentaries. It...</td>\n",
       "      <td>0</td>\n",
       "    </tr>\n",
       "    <tr>\n",
       "      <th>20614</th>\n",
       "      <td>Lady Crow debut EP</td>\n",
       "      <td>Help us finance Every Stone, our first EP!</td>\n",
       "      <td>0</td>\n",
       "    </tr>\n",
       "    <tr>\n",
       "      <th>20615</th>\n",
       "      <td>JOSA, the ultimate Venice-Inspired bracelet</td>\n",
       "      <td>Benefits Save Venice, helps to protect Venice'...</td>\n",
       "      <td>0</td>\n",
       "    </tr>\n",
       "    <tr>\n",
       "      <th>20616</th>\n",
       "      <td>My Campaign Title</td>\n",
       "      <td>Hi</td>\n",
       "      <td>0</td>\n",
       "    </tr>\n",
       "    <tr>\n",
       "      <th>20617</th>\n",
       "      <td>My Campaign Title</td>\n",
       "      <td>Hi</td>\n",
       "      <td>0</td>\n",
       "    </tr>\n",
       "  </tbody>\n",
       "</table>\n",
       "<p>20618 rows × 3 columns</p>\n",
       "</div>"
      ],
      "text/plain": [
       "                                                title  \\\n",
       "0                     Join the Electric Revolution!!!   \n",
       "1                                Relief Trip to Haiti   \n",
       "2                    Out To Reach Leogane, Haiti 2010   \n",
       "3                 The Transpersonal Papers: 1861-2010   \n",
       "4      Homeless Veterans need a Hand UP not Hand Out!   \n",
       "...                                               ...   \n",
       "20613                         Totally Gay Productions   \n",
       "20614                              Lady Crow debut EP   \n",
       "20615     JOSA, the ultimate Venice-Inspired bracelet   \n",
       "20616                               My Campaign Title   \n",
       "20617                               My Campaign Title   \n",
       "\n",
       "                                                 tagline  is_success  \n",
       "0      Pure electric motorcycle proves a powerful alt...           0  \n",
       "1                  Send Me to Haiti...I'm needed there!            0  \n",
       "2                        Haiti Relief Mission to Leogane           0  \n",
       "3                       My third book on Fezziwig Press.           0  \n",
       "4      Homeless Veterans Transitional Housing Develop...           0  \n",
       "...                                                  ...         ...  \n",
       "20613  Trans filmmaker making queer documentaries. It...           0  \n",
       "20614         Help us finance Every Stone, our first EP!           0  \n",
       "20615  Benefits Save Venice, helps to protect Venice'...           0  \n",
       "20616                                                 Hi           0  \n",
       "20617                                                 Hi           0  \n",
       "\n",
       "[20618 rows x 3 columns]"
      ]
     },
     "execution_count": 14,
     "metadata": {},
     "output_type": "execute_result"
    }
   ],
   "source": [
    "indie_text_df = df[['title', 'tagline', 'is_success']]\n",
    "indie_text_df"
   ]
  },
  {
   "cell_type": "code",
   "execution_count": 15,
   "id": "61b2e173",
   "metadata": {},
   "outputs": [
    {
     "name": "stderr",
     "output_type": "stream",
     "text": [
      "/var/folders/mh/t2vz9kkn6z99y7p0rnwcq33m0000gn/T/ipykernel_62190/2641864021.py:1: SettingWithCopyWarning: \n",
      "A value is trying to be set on a copy of a slice from a DataFrame.\n",
      "Try using .loc[row_indexer,col_indexer] = value instead\n",
      "\n",
      "See the caveats in the documentation: https://pandas.pydata.org/pandas-docs/stable/user_guide/indexing.html#returning-a-view-versus-a-copy\n",
      "  indie_text_df['text'] = indie_text_df['title'] + ' ' + indie_text_df['tagline']\n"
     ]
    },
    {
     "data": {
      "text/plain": [
       "0        Join the Electric Revolution!!! Pure electric ...\n",
       "1        Relief Trip to Haiti Send Me to Haiti...I'm ne...\n",
       "2        Out To Reach Leogane, Haiti 2010 Haiti Relief ...\n",
       "3        The Transpersonal Papers: 1861-2010 My third b...\n",
       "4        Homeless Veterans need a Hand UP not Hand Out!...\n",
       "                               ...                        \n",
       "20613    Totally Gay Productions Trans filmmaker making...\n",
       "20614    Lady Crow debut EP Help us finance Every Stone...\n",
       "20615    JOSA, the ultimate Venice-Inspired bracelet Be...\n",
       "20616                                 My Campaign Title Hi\n",
       "20617                                 My Campaign Title Hi\n",
       "Name: text, Length: 20618, dtype: object"
      ]
     },
     "execution_count": 15,
     "metadata": {},
     "output_type": "execute_result"
    }
   ],
   "source": [
    "indie_text_df['text'] = indie_text_df['title'] + ' ' + indie_text_df['tagline']\n",
    "indie_text_df['text']"
   ]
  },
  {
   "cell_type": "code",
   "execution_count": 16,
   "id": "1a57432d",
   "metadata": {},
   "outputs": [
    {
     "name": "stderr",
     "output_type": "stream",
     "text": [
      "/var/folders/mh/t2vz9kkn6z99y7p0rnwcq33m0000gn/T/ipykernel_62190/1899599088.py:1: SettingWithCopyWarning: \n",
      "A value is trying to be set on a copy of a slice from a DataFrame\n",
      "\n",
      "See the caveats in the documentation: https://pandas.pydata.org/pandas-docs/stable/user_guide/indexing.html#returning-a-view-versus-a-copy\n",
      "  indie_text_df.drop(['title', 'tagline'], axis=1, inplace=True)\n"
     ]
    }
   ],
   "source": [
    "indie_text_df.drop(['title', 'tagline'], axis=1, inplace=True)\n"
   ]
  },
  {
   "cell_type": "code",
   "execution_count": null,
   "id": "283662c0",
   "metadata": {},
   "outputs": [],
   "source": []
  },
  {
   "cell_type": "code",
   "execution_count": 17,
   "id": "0fb3e55f",
   "metadata": {},
   "outputs": [
    {
     "data": {
      "text/html": [
       "<div>\n",
       "<style scoped>\n",
       "    .dataframe tbody tr th:only-of-type {\n",
       "        vertical-align: middle;\n",
       "    }\n",
       "\n",
       "    .dataframe tbody tr th {\n",
       "        vertical-align: top;\n",
       "    }\n",
       "\n",
       "    .dataframe thead th {\n",
       "        text-align: right;\n",
       "    }\n",
       "</style>\n",
       "<table border=\"1\" class=\"dataframe\">\n",
       "  <thead>\n",
       "    <tr style=\"text-align: right;\">\n",
       "      <th></th>\n",
       "      <th>is_success</th>\n",
       "      <th>text</th>\n",
       "    </tr>\n",
       "  </thead>\n",
       "  <tbody>\n",
       "    <tr>\n",
       "      <th>0</th>\n",
       "      <td>0</td>\n",
       "      <td>Join the Electric Revolution!!! Pure electric ...</td>\n",
       "    </tr>\n",
       "    <tr>\n",
       "      <th>1</th>\n",
       "      <td>0</td>\n",
       "      <td>Relief Trip to Haiti Send Me to Haiti...I'm ne...</td>\n",
       "    </tr>\n",
       "    <tr>\n",
       "      <th>2</th>\n",
       "      <td>0</td>\n",
       "      <td>Out To Reach Leogane, Haiti 2010 Haiti Relief ...</td>\n",
       "    </tr>\n",
       "    <tr>\n",
       "      <th>3</th>\n",
       "      <td>0</td>\n",
       "      <td>The Transpersonal Papers: 1861-2010 My third b...</td>\n",
       "    </tr>\n",
       "    <tr>\n",
       "      <th>4</th>\n",
       "      <td>0</td>\n",
       "      <td>Homeless Veterans need a Hand UP not Hand Out!...</td>\n",
       "    </tr>\n",
       "    <tr>\n",
       "      <th>...</th>\n",
       "      <td>...</td>\n",
       "      <td>...</td>\n",
       "    </tr>\n",
       "    <tr>\n",
       "      <th>20613</th>\n",
       "      <td>0</td>\n",
       "      <td>Totally Gay Productions Trans filmmaker making...</td>\n",
       "    </tr>\n",
       "    <tr>\n",
       "      <th>20614</th>\n",
       "      <td>0</td>\n",
       "      <td>Lady Crow debut EP Help us finance Every Stone...</td>\n",
       "    </tr>\n",
       "    <tr>\n",
       "      <th>20615</th>\n",
       "      <td>0</td>\n",
       "      <td>JOSA, the ultimate Venice-Inspired bracelet Be...</td>\n",
       "    </tr>\n",
       "    <tr>\n",
       "      <th>20616</th>\n",
       "      <td>0</td>\n",
       "      <td>My Campaign Title Hi</td>\n",
       "    </tr>\n",
       "    <tr>\n",
       "      <th>20617</th>\n",
       "      <td>0</td>\n",
       "      <td>My Campaign Title Hi</td>\n",
       "    </tr>\n",
       "  </tbody>\n",
       "</table>\n",
       "<p>20618 rows × 2 columns</p>\n",
       "</div>"
      ],
      "text/plain": [
       "       is_success                                               text\n",
       "0               0  Join the Electric Revolution!!! Pure electric ...\n",
       "1               0  Relief Trip to Haiti Send Me to Haiti...I'm ne...\n",
       "2               0  Out To Reach Leogane, Haiti 2010 Haiti Relief ...\n",
       "3               0  The Transpersonal Papers: 1861-2010 My third b...\n",
       "4               0  Homeless Veterans need a Hand UP not Hand Out!...\n",
       "...           ...                                                ...\n",
       "20613           0  Totally Gay Productions Trans filmmaker making...\n",
       "20614           0  Lady Crow debut EP Help us finance Every Stone...\n",
       "20615           0  JOSA, the ultimate Venice-Inspired bracelet Be...\n",
       "20616           0                               My Campaign Title Hi\n",
       "20617           0                               My Campaign Title Hi\n",
       "\n",
       "[20618 rows x 2 columns]"
      ]
     },
     "execution_count": 17,
     "metadata": {},
     "output_type": "execute_result"
    }
   ],
   "source": [
    "indie_text_df"
   ]
  },
  {
   "cell_type": "code",
   "execution_count": 18,
   "id": "acdc9283",
   "metadata": {},
   "outputs": [],
   "source": [
    "indie_text_df.to_csv('indiepygo_text_fornlp.csv', index=False)"
   ]
  },
  {
   "cell_type": "code",
   "execution_count": null,
   "id": "8de9f61d",
   "metadata": {},
   "outputs": [],
   "source": []
  }
 ],
 "metadata": {
  "kernelspec": {
   "display_name": "Python 3 (ipykernel)",
   "language": "python",
   "name": "python3"
  },
  "language_info": {
   "codemirror_mode": {
    "name": "ipython",
    "version": 3
   },
   "file_extension": ".py",
   "mimetype": "text/x-python",
   "name": "python",
   "nbconvert_exporter": "python",
   "pygments_lexer": "ipython3",
   "version": "3.9.13"
  }
 },
 "nbformat": 4,
 "nbformat_minor": 5
}
